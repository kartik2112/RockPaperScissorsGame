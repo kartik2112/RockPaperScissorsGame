{
 "cells": [
  {
   "cell_type": "code",
   "execution_count": 2,
   "metadata": {},
   "outputs": [],
   "source": [
    "from skimage.io import imshow, imread, imsave\n",
    "import os\n",
    "# import imageio\n",
    "from imgaug import augmenters as iaa\n",
    "from tqdm import tqdm"
   ]
  },
  {
   "cell_type": "code",
   "execution_count": 6,
   "metadata": {},
   "outputs": [],
   "source": [
    "aug_pipeline = iaa.Sequential([\n",
    "    iaa.GaussianBlur(sigma=(1.2, 3.0)),\n",
    "    iaa.GammaContrast(gamma=(0.9,1.9)),\n",
    "    iaa.SomeOf((2,3),[\n",
    "        iaa.Fliplr(1.0), # horizontally flip\n",
    "        iaa.Affine(rotate=(-90,90)),\n",
    "        iaa.Sometimes( 0.2,iaa.GaussianBlur(sigma=(0, 0.1))),\n",
    "#         iaa.AdditiveGaussianNoise(loc=0, scale=(0.0, 0.05*255), per_channel=0.5),\n",
    "    ]),\n",
    "    iaa.CenterCropToAspectRatio(aspect_ratio=0.75),\n",
    "    iaa.Resize({\"height\": 320, \"width\": 240})\n",
    "], \n",
    "# random_order=True # apply the augmentations in random order\n",
    ")"
   ]
  },
  {
   "cell_type": "code",
   "execution_count": 7,
   "metadata": {},
   "outputs": [
    {
     "name": "stderr",
     "output_type": "stream",
     "text": [
      " 98%|█████████▊| 1658/1684 [12:34<00:10,  2.40it/s]<ipython-input-7-a066156bcef9>:10: UserWarning: ../datasets/generated_dataset_augmented/paper/paper02-011_0_1.png is a low contrast image\n",
      "  imsave(\"../datasets/generated_dataset_augmented/\" + folder + \"\".join(filename.split(\".\")[:-1]+[\"_\"+str(i),\".png\"]), aug_img)\n",
      "100%|██████████| 1684/1684 [12:46<00:00,  2.20it/s]\n",
      "100%|██████████| 1700/1700 [13:41<00:00,  2.07it/s]\n",
      "100%|██████████| 1719/1719 [13:16<00:00,  2.16it/s]\n"
     ]
    }
   ],
   "source": [
    "foldername = \"../datasets/generated_dataset/\"\n",
    "for folder in ['paper/', 'rock/', 'scissors/']:\n",
    "    os.system(\"rm ../datasets/generated_dataset_augmented/\" + folder+\"*\")\n",
    "    for filename in tqdm(os.listdir(foldername + folder)):\n",
    "        try:\n",
    "            image = imread(foldername+folder+filename)\n",
    "            for i in range(3):\n",
    "        #         print(foldername + \".\".join(filename.split(\".\")[:-1]+[\"png\"]))\n",
    "                aug_img = aug_pipeline.augment_image(image)\n",
    "                imsave(\"../datasets/generated_dataset_augmented/\" + folder + \"\".join(filename.split(\".\")[:-1]+[\"_\"+str(i),\".png\"]), aug_img)\n",
    "            del image, aug_img\n",
    "    #         imshow(aug_img)\n",
    "        except ValueError:\n",
    "#             continue\n",
    "            print(f\"Read failed for image: {filename}\")\n",
    "            raise"
   ]
  },
  {
   "cell_type": "code",
   "execution_count": null,
   "metadata": {},
   "outputs": [],
   "source": []
  }
 ],
 "metadata": {
  "kernelspec": {
   "display_name": "rps-game",
   "language": "python",
   "name": "rps-game"
  },
  "language_info": {
   "codemirror_mode": {
    "name": "ipython",
    "version": 3
   },
   "file_extension": ".py",
   "mimetype": "text/x-python",
   "name": "python",
   "nbconvert_exporter": "python",
   "pygments_lexer": "ipython3",
   "version": "3.8.5"
  }
 },
 "nbformat": 4,
 "nbformat_minor": 4
}
